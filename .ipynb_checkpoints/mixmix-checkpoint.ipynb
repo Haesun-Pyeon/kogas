{
 "cells": [
  {
   "cell_type": "code",
   "execution_count": null,
   "id": "bee033c5",
   "metadata": {},
   "outputs": [],
   "source": [
    "%matplotlib inline\n",
    "import pandas as pd\n",
    "import numpy as np\n",
    "import matplotlib.pyplot as plt"
   ]
  },
  {
   "cell_type": "code",
   "execution_count": null,
   "id": "b265c6ab",
   "metadata": {},
   "outputs": [],
   "source": [
    "lstm = pd.read_csv('lstm.csv')\n",
    "xgboost = pd.read_csv('xgboost.csv')\n",
    "lstm, xgboost"
   ]
  },
  {
   "cell_type": "code",
   "execution_count": null,
   "id": "7ee8870f",
   "metadata": {},
   "outputs": [],
   "source": [
    "final = pd.DataFrame()\n",
    "final['YEAR'] = lstm['YEAR']\n",
    "final['MONTH'] = lstm['MONTH']\n",
    "final"
   ]
  },
  {
   "cell_type": "code",
   "execution_count": null,
   "id": "5534fda8",
   "metadata": {},
   "outputs": [],
   "source": [
    "final['CIVIL'] = lstm['CIVIL']*0.7 + xgboost['CIVIL']*0.3\n",
    "final['IND'] = lstm['IND']*0.7 + xgboost['IND']*0.3\n",
    "final"
   ]
  },
  {
   "cell_type": "code",
   "execution_count": null,
   "id": "b8396fd0",
   "metadata": {},
   "outputs": [],
   "source": [
    "final.to_csv(\"ensemble.csv\", mode='w', index=False)"
   ]
  },
  {
   "cell_type": "code",
   "execution_count": null,
   "id": "2e84ce98",
   "metadata": {},
   "outputs": [],
   "source": [
    "lstm['CIVIL'].plot()\n",
    "xgboost['CIVIL'].plot()\n",
    "final['CIVIL'].plot()\n",
    "plt.legend(['lstm','xgboost','mix'])"
   ]
  },
  {
   "cell_type": "code",
   "execution_count": null,
   "id": "33ecbd91",
   "metadata": {},
   "outputs": [],
   "source": [
    "lstm['IND'].plot()\n",
    "xgboost['IND'].plot()\n",
    "final['IND'].plot()\n",
    "plt.legend(['lstm','xgboost','mix'])"
   ]
  },
  {
   "cell_type": "markdown",
   "id": "d3e09826",
   "metadata": {},
   "source": [
    "217826.67359점 -> lstm(단독 38만) *0.7 + xgboost *0.3\n",
    "\n",
    "    model = Sequential()\n",
    "    model.add(LSTM(300, input_shape=(12,1), return_sequences=True, activation='relu'))\n",
    "    model.add(Dropout(0.2))\n",
    "    model.add(LSTM(300, activation='relu'))\n",
    "    model.add(Dense(1))\n",
    "    model.compile(loss='mean_squared_error', optimizer='adam')\n",
    "    early_stop = EarlyStopping(monitor='loss', patience=30, verbose=1)\n",
    "    h = model.fit(X_train_t, Y_train, epochs=300, validation_data=[X_test_t, Y_test],\n",
    "         batch_size=10, verbose=1, callbacks=[early_stop])"
   ]
  }
 ],
 "metadata": {
  "kernelspec": {
   "display_name": "Python 3",
   "language": "python",
   "name": "python3"
  },
  "language_info": {
   "codemirror_mode": {
    "name": "ipython",
    "version": 3
   },
   "file_extension": ".py",
   "mimetype": "text/x-python",
   "name": "python",
   "nbconvert_exporter": "python",
   "pygments_lexer": "ipython3",
   "version": "3.8.8"
  }
 },
 "nbformat": 4,
 "nbformat_minor": 5
}
